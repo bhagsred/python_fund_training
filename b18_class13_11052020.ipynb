{
 "cells": [
  {
   "cell_type": "code",
   "execution_count": 37,
   "metadata": {},
   "outputs": [],
   "source": [
    "#Req:Design a class\n",
    "#1.It needs to accept user input, as the username\n",
    "#2.Display name\n",
    "#3.Greet the user\n",
    "\n",
    "class Test:\n",
    "    \"\"\"design a simple class to the user_profile\"\"\"\n",
    "    def createname(self,name,age):\n",
    "        self.name=name\n",
    "    \n",
    "    def displayname(self):\n",
    "        print(self.name.title())\n",
    "    \n",
    "    def greet(self):\n",
    "        print(f\"Hello {self.name.title()} welcome to our class\")\n"
   ]
  },
  {
   "cell_type": "code",
   "execution_count": 38,
   "metadata": {},
   "outputs": [],
   "source": [
    "#Object assignment to a class\n",
    "xobj=Test()"
   ]
  },
  {
   "cell_type": "code",
   "execution_count": 39,
   "metadata": {},
   "outputs": [],
   "source": [
    "xobj.createname('bhargav','39')"
   ]
  },
  {
   "cell_type": "code",
   "execution_count": 40,
   "metadata": {},
   "outputs": [
    {
     "name": "stdout",
     "output_type": "stream",
     "text": [
      "Bhargav\n"
     ]
    }
   ],
   "source": [
    "xobj.displayname()"
   ]
  },
  {
   "cell_type": "code",
   "execution_count": 41,
   "metadata": {},
   "outputs": [
    {
     "name": "stdout",
     "output_type": "stream",
     "text": [
      "Hello Bhargav welcome to our class\n"
     ]
    }
   ],
   "source": [
    "xobj.greet()"
   ]
  },
  {
   "cell_type": "code",
   "execution_count": 42,
   "metadata": {},
   "outputs": [],
   "source": [
    "#Inroducing robot\n",
    "class Robot:\n",
    "    \"\"\"Designing a class function to introduce robots\"\"\"\n",
    "    def introduce_self(self):\n",
    "        print(\"My name is \" + self.name)\n",
    "        print(\"My colour is \" + self.colour)\n",
    "        print(\"My weight is \" + self.weight)"
   ]
  },
  {
   "cell_type": "code",
   "execution_count": 43,
   "metadata": {},
   "outputs": [],
   "source": [
    "#creating the object\n",
    "\n",
    "r1 = Robot()\n",
    "\n",
    "r1.name=\"Tom\"\n",
    "r1.colour=\"red\"\n",
    "r1.weight=\"20 kg\"\n",
    "\n",
    "r2 = Robot()\n",
    "\n",
    "r2.name=\"Jerry\"\n",
    "r2.colour=\"brown\"\n",
    "r2.weight=\"5 kg\"\n",
    " "
   ]
  },
  {
   "cell_type": "code",
   "execution_count": 52,
   "metadata": {},
   "outputs": [
    {
     "name": "stdout",
     "output_type": "stream",
     "text": [
      "My name is Tom\n",
      "My colour is red\n",
      "My weight is 20 kg\n"
     ]
    }
   ],
   "source": [
    "#Run the above function for the objects created in line 43\n",
    "\n",
    "r1.introduce_self()"
   ]
  },
  {
   "cell_type": "code",
   "execution_count": 53,
   "metadata": {},
   "outputs": [
    {
     "name": "stdout",
     "output_type": "stream",
     "text": [
      "My name is Jerry\n",
      "My colour is brown\n",
      "My weight is 5 kg\n"
     ]
    }
   ],
   "source": [
    "r2.introduce_self()"
   ]
  },
  {
   "cell_type": "code",
   "execution_count": null,
   "metadata": {},
   "outputs": [],
   "source": []
  }
 ],
 "metadata": {
  "kernelspec": {
   "display_name": "Python 3",
   "language": "python",
   "name": "python3"
  },
  "language_info": {
   "codemirror_mode": {
    "name": "ipython",
    "version": 3
   },
   "file_extension": ".py",
   "mimetype": "text/x-python",
   "name": "python",
   "nbconvert_exporter": "python",
   "pygments_lexer": "ipython3",
   "version": "3.7.6"
  }
 },
 "nbformat": 4,
 "nbformat_minor": 4
}
