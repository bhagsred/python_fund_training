{
 "cells": [
  {
   "cell_type": "code",
   "execution_count": null,
   "metadata": {},
   "outputs": [],
   "source": [
    "#understanding the user accepted input:\n",
    "#requirement is to great the user\n",
    "\n",
    "#by default input function will be treating the input as a string only\n",
    "\n",
    "#understanding the type castings\n",
    "#typecastings: changing datatype from one form to another.\n",
    "#height=int(height)\n",
    "\n",
    "#case study: Building a voting application\n"
   ]
  },
  {
   "cell_type": "code",
   "execution_count": 4,
   "metadata": {},
   "outputs": [
    {
     "name": "stdout",
     "output_type": "stream",
     "text": [
      "tell me something and i will repeat the same: hello all\n",
      "hello all\n"
     ]
    }
   ],
   "source": [
    "message=input('tell me something and i will repeat the same: ')\n",
    "print(message)"
   ]
  },
  {
   "cell_type": "code",
   "execution_count": 1,
   "metadata": {},
   "outputs": [
    {
     "name": "stdout",
     "output_type": "stream",
     "text": [
      "please enter your name bhargav\n",
      "Hi Bhargav\n"
     ]
    }
   ],
   "source": [
    "#Write a program that asks the user to enter his or her name. The program should\n",
    "#respond with a message that says hello to the user, using his or her name.\n",
    "\n",
    "wish='user'\n",
    "user=input(\"please enter your name \")\n",
    "print(f\"Hi {user.title()}\")"
   ]
  },
  {
   "cell_type": "code",
   "execution_count": 3,
   "metadata": {},
   "outputs": [
    {
     "name": "stdout",
     "output_type": "stream",
     "text": [
      "please enter length in feet 10\n",
      "please enter width in feet 10\n",
      "100 square feet\n"
     ]
    }
   ],
   "source": [
    "#Write a program that asks the user to enter the width and length of a room. Once\n",
    "#the values have been read, your program should compute and display the area of the\n",
    "#room. The length and the width will be entered as ﬂoating point numbers. Include\n",
    "#units in your prompt and output message; either feet or meters, depending on which\n",
    "#unit you are more comfortable working with.\n",
    "\n",
    "length='x'\n",
    "width='y'\n",
    "area='z'\n",
    "x=int(input(\"please enter length in feet \")) #used only for whole numbers, gives an error if we give 2 decimal \n",
    "y=int(input(\"please enter width in feet \"))\n",
    "z=round(x*y,2)\n",
    "print(z,\"square feet\")"
   ]
  },
  {
   "cell_type": "code",
   "execution_count": 4,
   "metadata": {},
   "outputs": [
    {
     "name": "stdout",
     "output_type": "stream",
     "text": [
      "please enter length in feet 9.5\n",
      "please enter width in feet 9.5\n",
      "90.25 square feet\n"
     ]
    }
   ],
   "source": [
    "length='x'\n",
    "width='y'\n",
    "area='z'\n",
    "x=float(input(\"please enter length in feet \"))\n",
    "y=float(input(\"please enter width in feet \"))\n",
    "z=x*y\n",
    "print(z,\"square feet\")"
   ]
  },
  {
   "cell_type": "code",
   "execution_count": 10,
   "metadata": {},
   "outputs": [
    {
     "name": "stdout",
     "output_type": "stream",
     "text": [
      "please enter number of small containers less than 1 litre 25\n",
      "please enter number of large containers greater than 1 litre 30\n",
      "your total refund is £ 10.0\n"
     ]
    }
   ],
   "source": [
    "#In many jurisdictions a small deposit is added to drink containers to encourage people\n",
    "#to recycle them. In one particular jurisdiction, drink containers holding one liter or\n",
    "#less have a £0.10 deposit, and drink containers holding more than one liter have a\n",
    "#£0.25 deposit.\n",
    "#Write a program that reads the number of containers of each size from the user.\n",
    "#Your program should continue by computing and displaying the refund that will be\n",
    "#received for returning those containers. Format the output so that it includes a GBP\n",
    "#sign and always displays exactly two decimal places.\n",
    "\n",
    "small_containers='x'\n",
    "large_containers='y'\n",
    "refund_small_containers='a'\n",
    "refund_large_containers='b'\n",
    "refund_total='c'\n",
    "\n",
    "x=float(input(\"please enter number of small containers less than 1 litre \"))\n",
    "y=float(input(\"please enter number of large containers greater than 1 litre \"))\n",
    "a=x*0.10\n",
    "b=y*0.25\n",
    "c=round(a+b,3)\n",
    "print(f\"your total refund is £\",c)"
   ]
  },
  {
   "cell_type": "code",
   "execution_count": 9,
   "metadata": {},
   "outputs": [
    {
     "name": "stdout",
     "output_type": "stream",
     "text": [
      "please enter your age: 18\n",
      "you are eligible to vote\n",
      "please register your name for voting\n"
     ]
    }
   ],
   "source": [
    "#Req: build a Voting application\n",
    "\n",
    "age=x\n",
    "x=int(input('please enter your age: '))\n",
    "\n",
    "if x>=18:\n",
    "    print(\"you are eligible to vote\")\n",
    "    print(\"please register your name for voting\")\n",
    "else:\n",
    "    print(\"you are not eligible to vote this year\")\n",
    "    print(\"please try next year\")\n",
    "    "
   ]
  },
  {
   "cell_type": "code",
   "execution_count": null,
   "metadata": {},
   "outputs": [],
   "source": []
  }
 ],
 "metadata": {
  "kernelspec": {
   "display_name": "Python 3",
   "language": "python",
   "name": "python3"
  },
  "language_info": {
   "codemirror_mode": {
    "name": "ipython",
    "version": 3
   },
   "file_extension": ".py",
   "mimetype": "text/x-python",
   "name": "python",
   "nbconvert_exporter": "python",
   "pygments_lexer": "ipython3",
   "version": "3.7.6"
  }
 },
 "nbformat": 4,
 "nbformat_minor": 4
}
