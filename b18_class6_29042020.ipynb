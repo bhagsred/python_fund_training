{
 "cells": [
  {
   "cell_type": "code",
   "execution_count": null,
   "metadata": {},
   "outputs": [],
   "source": [
    "#Inroduction to slicing of list\n",
    "#requrement is to create a group of 2 people each from the list\n",
    "#last value in the group is exclusive\n",
    "#Gen Syntax\n",
    "#print(students[position:position])\n",
    "\n",
    "#requirement is to write alternative name in the list\n",
    "#Gen syntax\n",
    "#print(students[startpoint:endpoint:stepcount])\n",
    "\n",
    "#Introduction to negative indexing\n",
    "#print(students(-1))\n",
    "\n",
    "#how to print a list in reverse order by using the indexing\n",
    "#print(students[::-1])\n",
    "\n",
    "#for loop and range\n",
    "#requrement to print 1 to 30 numbers\n",
    "#requirement to print even numbers\n",
    "#requirement to print odd numbers\n",
    "\n"
   ]
  },
  {
   "cell_type": "code",
   "execution_count": 14,
   "metadata": {},
   "outputs": [
    {
     "name": "stdout",
     "output_type": "stream",
     "text": [
      "['abc', 'cba', 'xyz', 'zyx', '123', '321']\n",
      "xyz\n",
      "['abc', 'cba']\n",
      "['cba', 'xyz']\n",
      "['abc', 'xyz', '123']\n",
      "123\n",
      "['321', '123', 'zyx', 'xyz', 'cba', 'abc']\n"
     ]
    }
   ],
   "source": [
    "students=['abc','cba','xyz','zyx','123','321']\n",
    "print(students)\n",
    "print(students[2])\n",
    "print(students[0:2])\n",
    "print(students[1:3])\n",
    "print(students[0:5:2])#alternative names from list\n",
    "print(students[-2])\n",
    "print(students[::-1])#printing list in reverse order"
   ]
  },
  {
   "cell_type": "code",
   "execution_count": 52,
   "metadata": {},
   "outputs": [
    {
     "name": "stdout",
     "output_type": "stream",
     "text": [
      "[0, 1, 2, 3, 4, 5, 6, 7, 8, 9, 10, 11, 12, 13, 14, 15, 16, 17, 18, 19, 20, 21, 22, 23, 24, 25, 26, 27, 28, 29]\n"
     ]
    }
   ],
   "source": [
    "numbers=list(range(0,30))\n",
    "print(numbers)"
   ]
  },
  {
   "cell_type": "code",
   "execution_count": 4,
   "metadata": {},
   "outputs": [
    {
     "name": "stdout",
     "output_type": "stream",
     "text": [
      "[2, 4, 6, 8, 10, 12, 14, 16, 18]\n"
     ]
    }
   ],
   "source": [
    "even_numbers=list(range(2,20,2))\n",
    "print(even_numbers)             "
   ]
  },
  {
   "cell_type": "code",
   "execution_count": 16,
   "metadata": {},
   "outputs": [
    {
     "name": "stdout",
     "output_type": "stream",
     "text": [
      "2 4 6 8 10 12 14 16 18 20 22 24 26 28 \n"
     ]
    }
   ],
   "source": [
    "for i in range (2,30,2):\n",
    "    print(i,end=\" \")    #indentation is important and not to forget\n",
    "print()"
   ]
  },
  {
   "cell_type": "code",
   "execution_count": 15,
   "metadata": {},
   "outputs": [
    {
     "name": "stdout",
     "output_type": "stream",
     "text": [
      "1 3 5 7 9 11 13 15 17 19 21 23 25 27 29 \n"
     ]
    }
   ],
   "source": [
    "for i in range (1,30,2):\n",
    "    print(i,end=\" \")\n",
    "print()"
   ]
  },
  {
   "cell_type": "code",
   "execution_count": null,
   "metadata": {},
   "outputs": [],
   "source": []
  },
  {
   "cell_type": "code",
   "execution_count": null,
   "metadata": {},
   "outputs": [],
   "source": []
  },
  {
   "cell_type": "code",
   "execution_count": null,
   "metadata": {},
   "outputs": [],
   "source": []
  }
 ],
 "metadata": {
  "kernelspec": {
   "display_name": "Python 3",
   "language": "python",
   "name": "python3"
  },
  "language_info": {
   "codemirror_mode": {
    "name": "ipython",
    "version": 3
   },
   "file_extension": ".py",
   "mimetype": "text/x-python",
   "name": "python",
   "nbconvert_exporter": "python",
   "pygments_lexer": "ipython3",
   "version": "3.7.6"
  }
 },
 "nbformat": 4,
 "nbformat_minor": 4
}
