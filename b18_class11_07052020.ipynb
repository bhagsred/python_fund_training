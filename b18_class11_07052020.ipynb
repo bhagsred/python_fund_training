{
 "cells": [
  {
   "cell_type": "code",
   "execution_count": null,
   "metadata": {},
   "outputs": [],
   "source": [
    "#class 11 on functions"
   ]
  },
  {
   "cell_type": "code",
   "execution_count": 19,
   "metadata": {},
   "outputs": [
    {
     "name": "stdout",
     "output_type": "stream",
     "text": [
      "welcomeback to the group, Bhargav\n"
     ]
    }
   ],
   "source": [
    "#req:defining a greeting function\n",
    "\n",
    "def greet_user (username): #passing a parameter\n",
    "    \"\"\"display a simple greeting messgae to the user\"\"\"\n",
    "    print(f\"welcomeback to the group, {username.title()}\")\n",
    "greet_user('bhargav') #passing the argument"
   ]
  },
  {
   "cell_type": "code",
   "execution_count": 16,
   "metadata": {},
   "outputs": [
    {
     "name": "stdout",
     "output_type": "stream",
     "text": [
      "\n",
      "I have a dog\n",
      "my dog name is puppy\n"
     ]
    }
   ],
   "source": [
    "#req: 2 parameters need to be declated\n",
    "#pet name and animal type\n",
    "def describe_pet(animal_type,pet_name):\n",
    "    print(f\"\\nI have a {animal_type}\")\n",
    "    print(f\"my {animal_type} name is {pet_name}\")\n",
    "describe_pet('dog','puppy')"
   ]
  },
  {
   "cell_type": "code",
   "execution_count": 20,
   "metadata": {},
   "outputs": [
    {
     "name": "stdout",
     "output_type": "stream",
     "text": [
      "\n",
      "I have a cat\n",
      "my cat name is rex\n"
     ]
    }
   ],
   "source": [
    "#understanding the positional arguments\n",
    "#understanding the key word arguments\n",
    "describe_pet(pet_name='rex',animal_type='cat')"
   ]
  },
  {
   "cell_type": "code",
   "execution_count": 21,
   "metadata": {},
   "outputs": [
    {
     "ename": "SyntaxError",
     "evalue": "non-default argument follows default argument (<ipython-input-21-94e558720829>, line 6)",
     "output_type": "error",
     "traceback": [
      "\u001b[1;36m  File \u001b[1;32m\"<ipython-input-21-94e558720829>\"\u001b[1;36m, line \u001b[1;32m6\u001b[0m\n\u001b[1;33m    def describe_pet(animal_type='dog',pet_name): #non-default argument follows default argument\u001b[0m\n\u001b[1;37m                    ^\u001b[0m\n\u001b[1;31mSyntaxError\u001b[0m\u001b[1;31m:\u001b[0m non-default argument follows default argument\n"
     ]
    }
   ],
   "source": [
    "#If function is defined with 2 arguments, we need to provide 2 positional arguments\n",
    "#this is solved by default argument\n",
    "#understanding the default arguments\n",
    "#1.keep the default argument at the end of the function\n",
    "#arguments is called args and parameters is called as params\n",
    "\n",
    "#non-default argument follows default argument\n",
    "\n",
    "def describe_pet(animal_type='dog',pet_name): \n",
    "    print(f\"\\nI have a {animal_type}\")\n",
    "    print(f\"my {animal_type} name is {pet_name}\")"
   ]
  },
  {
   "cell_type": "code",
   "execution_count": 22,
   "metadata": {},
   "outputs": [
    {
     "name": "stdout",
     "output_type": "stream",
     "text": [
      "\n",
      "I have a dog\n",
      "my dog name is puppy\n"
     ]
    }
   ],
   "source": [
    "def describe_pet(animal_type,pet_name='puppy'):\n",
    "    print(f\"\\nI have a {animal_type}\")\n",
    "    print(f\"my {animal_type} name is {pet_name}\")\n",
    "describe_pet('dog')"
   ]
  },
  {
   "cell_type": "code",
   "execution_count": 23,
   "metadata": {},
   "outputs": [
    {
     "name": "stdout",
     "output_type": "stream",
     "text": [
      "\n",
      "I have a dog\n",
      "my dog name is hero\n"
     ]
    }
   ],
   "source": [
    "def describe_pet(animal_type,pet_name='puppy'):\n",
    "    print(f\"\\nI have a {animal_type}\")\n",
    "    print(f\"my {animal_type} name is {pet_name}\")\n",
    "describe_pet('dog','hero')"
   ]
  },
  {
   "cell_type": "code",
   "execution_count": null,
   "metadata": {},
   "outputs": [],
   "source": []
  }
 ],
 "metadata": {
  "kernelspec": {
   "display_name": "Python 3",
   "language": "python",
   "name": "python3"
  },
  "language_info": {
   "codemirror_mode": {
    "name": "ipython",
    "version": 3
   },
   "file_extension": ".py",
   "mimetype": "text/x-python",
   "name": "python",
   "nbconvert_exporter": "python",
   "pygments_lexer": "ipython3",
   "version": "3.7.6"
  }
 },
 "nbformat": 4,
 "nbformat_minor": 4
}
