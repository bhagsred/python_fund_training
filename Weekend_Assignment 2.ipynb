{
 "cells": [
  {
   "cell_type": "code",
   "execution_count": 1,
   "metadata": {},
   "outputs": [],
   "source": [
    "#Requirement: \n",
    "#Resturant: Make a class called Restaurant. The __init__() method for Restaurant should store two attributes: \n",
    "#a restaurant_name and a cuisine_type. Make a method called describe_restaurant() that prints these two pieces of information, \n",
    "#and a method called open_restaurant() that prints a message indicating that the restaurant is open.\n",
    "#Make an instance called restaurant from your class. Print the two attributes individually, and then call both methods.\n",
    "\n",
    "class Restaurant:\n",
    "    \"\"\"creating restaurant class\"\"\"\n",
    "    def __init__(self,restaurant_name,cuisine_type):\n",
    "        \"\"\"intialise restaurant_name and cuisine_type as attributes\"\"\"\n",
    "        self.restaurant_name=restaurant_name\n",
    "        self.cuisine_type=cuisine_type\n",
    "        \n",
    "    def describe_restaurant(self):\n",
    "        \"\"\"method to print the two attributes individually\"\"\"\n",
    "        print(f\"Restaurant name: {self.restaurant_name}\")\n",
    "        print(f\"Cuisine type: {self.cuisine_type}\")\n",
    "    \n",
    "    def open_restaurant(self):\n",
    "        \"\"\"method to print statment restaurant is open\"\"\"\n",
    "        print(f\"{self.restaurant_name} Restaurant is open now\")"
   ]
  },
  {
   "cell_type": "code",
   "execution_count": 2,
   "metadata": {},
   "outputs": [
    {
     "name": "stdout",
     "output_type": "stream",
     "text": [
      "Restaurant name: Bristol Bawarchi\n",
      "Cuisine type: Indian\n",
      "Bristol Bawarchi Restaurant is open now\n"
     ]
    }
   ],
   "source": [
    "restaurant=Restaurant(\"Bristol Bawarchi\",\"Indian\")\n",
    "\"\"\"Object called restaurant created\"\"\"\n",
    "restaurant.describe_restaurant()\n",
    "restaurant.open_restaurant()"
   ]
  },
  {
   "cell_type": "code",
   "execution_count": 3,
   "metadata": {},
   "outputs": [],
   "source": [
    "#Requirement: \n",
    "#Ice Cream Stand: An ice cream stand is a specific kind of restaurant. \n",
    "#Write a class called IceCreamStand that inherits from the Restaurant class you wrote above. \n",
    "#Add an attribute called flavors that stores a list of ice cream flavors. Write a method that displays these flavors. \n",
    "#Create an instance of IceCreamStand, and call this method.\n",
    "\n",
    "class IceCreamStand(Restaurant):\n",
    "    \"\"\"Inheritance\"\"\"\n",
    "    flavours=\"Vanila, Chocolate, Strawberry, Raspberry\"\n",
    "        \n",
    "    def display_icecream_flavours(self):\n",
    "        print(f\"The Ice Cream Flavours available are: {self.flavours}\")\n"
   ]
  },
  {
   "cell_type": "code",
   "execution_count": 4,
   "metadata": {},
   "outputs": [],
   "source": [
    "IceCreamStand=IceCreamStand(\"Bhags\",\"Indian\")"
   ]
  },
  {
   "cell_type": "code",
   "execution_count": 5,
   "metadata": {},
   "outputs": [
    {
     "name": "stdout",
     "output_type": "stream",
     "text": [
      "The Ice Cream Flavours available are: Vanila, Chocolate, Strawberry, Raspberry\n"
     ]
    }
   ],
   "source": [
    "IceCreamStand.display_icecream_flavours()"
   ]
  },
  {
   "cell_type": "code",
   "execution_count": null,
   "metadata": {},
   "outputs": [],
   "source": []
  }
 ],
 "metadata": {
  "kernelspec": {
   "display_name": "Python 3",
   "language": "python",
   "name": "python3"
  },
  "language_info": {
   "codemirror_mode": {
    "name": "ipython",
    "version": 3
   },
   "file_extension": ".py",
   "mimetype": "text/x-python",
   "name": "python",
   "nbconvert_exporter": "python",
   "pygments_lexer": "ipython3",
   "version": "3.7.6"
  }
 },
 "nbformat": 4,
 "nbformat_minor": 4
}
