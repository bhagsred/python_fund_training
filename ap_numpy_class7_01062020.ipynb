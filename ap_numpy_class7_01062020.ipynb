{
 "cells": [
  {
   "cell_type": "code",
   "execution_count": 2,
   "metadata": {},
   "outputs": [],
   "source": [
    "#Introduction to stastical functions\n",
    "\n",
    "import numpy as np"
   ]
  },
  {
   "cell_type": "code",
   "execution_count": 3,
   "metadata": {},
   "outputs": [],
   "source": [
    "salaries=\" \"\n",
    "\n",
    "salaries=np.genfromtxt('salary.csv',delimiter=',')"
   ]
  },
  {
   "cell_type": "code",
   "execution_count": 4,
   "metadata": {},
   "outputs": [
    {
     "data": {
      "text/plain": [
       "array([60000., 58000., 56967., ..., 54647., 25000., 70000.])"
      ]
     },
     "execution_count": 4,
     "metadata": {},
     "output_type": "execute_result"
    }
   ],
   "source": [
    "salaries"
   ]
  },
  {
   "cell_type": "code",
   "execution_count": null,
   "metadata": {},
   "outputs": [],
   "source": [
    "#Req: Find the below\n",
    "\n",
    "#1.Mean\n",
    "#2.Median\n",
    "#3.Std. deviation\n",
    "#4.Variance\n"
   ]
  },
  {
   "cell_type": "code",
   "execution_count": 5,
   "metadata": {},
   "outputs": [
    {
     "data": {
      "text/plain": [
       "(1147,)"
      ]
     },
     "execution_count": 5,
     "metadata": {},
     "output_type": "execute_result"
    }
   ],
   "source": [
    "salaries.shape #Gives the dimensions (count) of the array(columns,rows)"
   ]
  },
  {
   "cell_type": "code",
   "execution_count": 6,
   "metadata": {},
   "outputs": [],
   "source": [
    "mean=np.mean(salaries)\n",
    "median=np.median(salaries)\n",
    "sd=np.std(salaries)\n",
    "variance=np.var(salaries)"
   ]
  },
  {
   "cell_type": "code",
   "execution_count": 7,
   "metadata": {},
   "outputs": [
    {
     "name": "stdout",
     "output_type": "stream",
     "text": [
      "mean = 55894\n",
      "median = 48000\n",
      "standard deviation = 55170\n",
      "variance = 3043770333\n"
     ]
    }
   ],
   "source": [
    "print(\"mean = %i\" %mean) #print(f\"median = {median}\") both gives the same result\n",
    "\n",
    "print(\"median = %i\" %median)\n",
    "\n",
    "print(\"standard deviation = %i\" %sd)\n",
    "\n",
    "print(\"variance = %i\" %variance)"
   ]
  },
  {
   "cell_type": "code",
   "execution_count": 10,
   "metadata": {},
   "outputs": [
    {
     "data": {
      "text/plain": [
       "array([  0,   1,   4,   9,  16,  25,  36,  49,  64,  81, 100], dtype=int32)"
      ]
     },
     "execution_count": 10,
     "metadata": {},
     "output_type": "execute_result"
    }
   ],
   "source": [
    "#Introduction to iteration in numpy\n",
    "\n",
    "a=np.arange(11)**2\n",
    "a"
   ]
  },
  {
   "cell_type": "code",
   "execution_count": 13,
   "metadata": {
    "scrolled": true
   },
   "outputs": [
    {
     "name": "stdout",
     "output_type": "stream",
     "text": [
      "0.0\n",
      "1.0\n",
      "2.0\n",
      "3.0\n",
      "4.0\n",
      "5.0\n",
      "6.0\n",
      "7.0\n",
      "8.0\n",
      "9.0\n",
      "10.0\n"
     ]
    }
   ],
   "source": [
    "for i in a:\n",
    "    print(i**(1/2))"
   ]
  },
  {
   "cell_type": "code",
   "execution_count": 16,
   "metadata": {},
   "outputs": [],
   "source": [
    "#multi dimensional arrays:\n",
    "\n",
    "students=np.array([['a','b','c','d'],[20,30,40,50],[60,70,80,90]])"
   ]
  },
  {
   "cell_type": "code",
   "execution_count": 18,
   "metadata": {},
   "outputs": [
    {
     "name": "stdout",
     "output_type": "stream",
     "text": [
      "i= ['a' 'b' 'c' 'd']\n",
      "i= ['20' '30' '40' '50']\n",
      "i= ['60' '70' '80' '90']\n"
     ]
    }
   ],
   "source": [
    "for i in students:\n",
    "    print(\"i=\",i)"
   ]
  },
  {
   "cell_type": "code",
   "execution_count": 19,
   "metadata": {},
   "outputs": [
    {
     "name": "stdout",
     "output_type": "stream",
     "text": [
      "a\n",
      "b\n",
      "c\n",
      "d\n",
      "20\n",
      "30\n",
      "40\n",
      "50\n",
      "60\n",
      "70\n",
      "80\n",
      "90\n"
     ]
    }
   ],
   "source": [
    "for a in students.flatten(): #All the data in one column (row based splitting)\n",
    "    print(a)"
   ]
  },
  {
   "cell_type": "code",
   "execution_count": 20,
   "metadata": {},
   "outputs": [
    {
     "name": "stdout",
     "output_type": "stream",
     "text": [
      "a\n",
      "20\n",
      "60\n",
      "b\n",
      "30\n",
      "70\n",
      "c\n",
      "40\n",
      "80\n",
      "d\n",
      "50\n",
      "90\n"
     ]
    }
   ],
   "source": [
    "for b in students.flatten(order='F'): #Column based splitting F=forton\n",
    "    print(b)"
   ]
  }
 ],
 "metadata": {
  "kernelspec": {
   "display_name": "Python 3",
   "language": "python",
   "name": "python3"
  },
  "language_info": {
   "codemirror_mode": {
    "name": "ipython",
    "version": 3
   },
   "file_extension": ".py",
   "mimetype": "text/x-python",
   "name": "python",
   "nbconvert_exporter": "python",
   "pygments_lexer": "ipython3",
   "version": "3.7.6"
  }
 },
 "nbformat": 4,
 "nbformat_minor": 4
}
