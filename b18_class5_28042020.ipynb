{
 "cells": [
  {
   "cell_type": "code",
   "execution_count": 1,
   "metadata": {},
   "outputs": [
    {
     "name": "stdout",
     "output_type": "stream",
     "text": [
      "please enter your order: vada\n",
      "please enter the tip for our hospitality: 3\n",
      "your total bill is, 17.16 INR\n"
     ]
    }
   ],
   "source": [
    "#The program that you create for this exercise will begin by reading the cost of a meal\n",
    "#ordered at a restaurant from the user. Then your program will compute the tax and\n",
    "#tip for the meal. Use your local tax rate when computing the amount of tax owing.\n",
    "#Compute the tip as 18 percent of the meal amount (without the tax). The output from\n",
    "#your program should include the tax amount, the tip amount, and the grand total for\n",
    "#the meal including both the tax and the tip. Format the output so that all of the values\n",
    "#are displayed using two decimal places.\n",
    "\n",
    "x='idly'\n",
    "y='dosa'\n",
    "z='vada'\n",
    "user_breakfast='item'\n",
    "idly_cost='x_1'\n",
    "dosa_cost='y_1'\n",
    "vada_cost='z_1'\n",
    "tax='a'\n",
    "tip='b'\n",
    "grand_total_idly='c'\n",
    "grand_total_dosa='d'\n",
    "grand_total_vada='e'\n",
    "\n",
    "item=input(\"please enter your order: \")\n",
    "tip=float(input(\"please enter the tip for our hospitality: \"))\n",
    "\n",
    "x_1=10\n",
    "y_1=15\n",
    "z_1=12\n",
    "\n",
    "c=round(x_1+tip+0.18*x_1,2)\n",
    "d=round(y_1+tip+0.18*y_1,2)\n",
    "e=round(z_1+tip+0.18*z_1,2)\n",
    "\n",
    "if item=='idly':\n",
    "    print(f\"your total bill is {c} INR\")\n",
    "\n",
    "else:\n",
    "    \n",
    "    if item=='dosa':\n",
    "        print(f\"your total bill is, {d} INR\")\n",
    "    else:\n",
    "        print(f\"your total bill is, {e} INR\")"
   ]
  },
  {
   "cell_type": "code",
   "execution_count": null,
   "metadata": {},
   "outputs": [],
   "source": []
  }
 ],
 "metadata": {
  "kernelspec": {
   "display_name": "Python 3",
   "language": "python",
   "name": "python3"
  },
  "language_info": {
   "codemirror_mode": {
    "name": "ipython",
    "version": 3
   },
   "file_extension": ".py",
   "mimetype": "text/x-python",
   "name": "python",
   "nbconvert_exporter": "python",
   "pygments_lexer": "ipython3",
   "version": "3.7.6"
  }
 },
 "nbformat": 4,
 "nbformat_minor": 4
}
