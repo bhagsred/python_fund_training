{
 "cells": [
  {
   "cell_type": "code",
   "execution_count": 1,
   "metadata": {},
   "outputs": [],
   "source": [
    "#Introduction to list data types\n",
    "#collection of items in an order; immutable; defined in square brackets[]\n",
    "\n",
    "#Understanding the concept of indexing:\n",
    "#If you want to access any specific name from the group\n",
    "#indexing start from [0,1,2]\n",
    "\n",
    "#reassining, adding (appending) and deleting the elements from the list\n",
    "\n",
    "#Understanding the .pop method\n",
    "#pop is used to delete the itenms from the list\n",
    "#it will create the carbon copy of the items deleted\n",
    "#by default pop will be deleting the items at the end of the list\n",
    "\n",
    "#Syntax: x=(students.pop[])\n",
    "\n"
   ]
  },
  {
   "cell_type": "code",
   "execution_count": 2,
   "metadata": {},
   "outputs": [
    {
     "name": "stdout",
     "output_type": "stream",
     "text": [
      "['xyz', 'zyx', 'abc']\n"
     ]
    },
    {
     "data": {
      "text/plain": [
       "list"
      ]
     },
     "execution_count": 2,
     "metadata": {},
     "output_type": "execute_result"
    }
   ],
   "source": [
    "students=['xyz','zyx','abc']\n",
    "print(students)#list\n",
    "type(students)#type of data"
   ]
  },
  {
   "cell_type": "code",
   "execution_count": 3,
   "metadata": {},
   "outputs": [
    {
     "name": "stdout",
     "output_type": "stream",
     "text": [
      "abc\n"
     ]
    }
   ],
   "source": [
    "print(students[2])#indexing"
   ]
  },
  {
   "cell_type": "code",
   "execution_count": 4,
   "metadata": {},
   "outputs": [
    {
     "name": "stdout",
     "output_type": "stream",
     "text": [
      "['xyz', 123, 'abc']\n"
     ]
    }
   ],
   "source": [
    "students[1]=123#reassining\n",
    "print(students)"
   ]
  },
  {
   "cell_type": "code",
   "execution_count": 5,
   "metadata": {},
   "outputs": [
    {
     "name": "stdout",
     "output_type": "stream",
     "text": [
      "['xyz', 123, 'abc', '456']\n"
     ]
    }
   ],
   "source": [
    "students.append('456')#append a name in the list at end\n",
    "print(students)"
   ]
  },
  {
   "cell_type": "code",
   "execution_count": 6,
   "metadata": {},
   "outputs": [
    {
     "name": "stdout",
     "output_type": "stream",
     "text": [
      "['bha', 'xyz', 123, 'abc', '456']\n"
     ]
    }
   ],
   "source": [
    "students.insert(0,'bha')#append a name in the list at index position\n",
    "print(students)"
   ]
  },
  {
   "cell_type": "code",
   "execution_count": 7,
   "metadata": {},
   "outputs": [
    {
     "name": "stdout",
     "output_type": "stream",
     "text": [
      "['xyz', 123, 'abc', '456']\n"
     ]
    }
   ],
   "source": [
    "del students[0]\n",
    "print(students)"
   ]
  },
  {
   "cell_type": "code",
   "execution_count": 63,
   "metadata": {},
   "outputs": [
    {
     "name": "stdout",
     "output_type": "stream",
     "text": [
      "['delhi', 'mumbai', 'kolkata', 'hyderabad', 'nalgonda']\n",
      "['delhi', 'mumbai', 'kolkata', 'hyderabad']\n"
     ]
    }
   ],
   "source": [
    "major_cities=['delhi','mumbai','kolkata','hyderabad','nalgonda']\n",
    "print(major_cities)\n",
    "x=major_cities\n",
    "x.pop()\n",
    "print(x)\n",
    "\n"
   ]
  },
  {
   "cell_type": "code",
   "execution_count": null,
   "metadata": {},
   "outputs": [],
   "source": []
  },
  {
   "cell_type": "code",
   "execution_count": null,
   "metadata": {},
   "outputs": [],
   "source": []
  }
 ],
 "metadata": {
  "kernelspec": {
   "display_name": "Python 3",
   "language": "python",
   "name": "python3"
  },
  "language_info": {
   "codemirror_mode": {
    "name": "ipython",
    "version": 3
   },
   "file_extension": ".py",
   "mimetype": "text/x-python",
   "name": "python",
   "nbconvert_exporter": "python",
   "pygments_lexer": "ipython3",
   "version": "3.7.6"
  }
 },
 "nbformat": 4,
 "nbformat_minor": 4
}
