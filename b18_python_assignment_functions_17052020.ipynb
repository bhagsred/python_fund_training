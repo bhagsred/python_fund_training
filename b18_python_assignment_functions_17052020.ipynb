{
 "cells": [
  {
   "cell_type": "code",
   "execution_count": 51,
   "metadata": {},
   "outputs": [],
   "source": [
    "#Requirement 1:\n",
    "\n",
    "#Write a function called make_shirt() that accepts a size and the text of a message that should be printed on the shirt. \n",
    "#The function should print a sentence summarizing the size of the shirt and the message printed on it. \n",
    "#Call the function once using positional arguments to make a shirt. Call the function a second time using keyword arguments.\n",
    "\n",
    "\n",
    "def make_shirt(size,message):\n",
    "    print(f\"The size of the T-Shirt is {size} and the message to be printed on it is: {message}.\")"
   ]
  },
  {
   "cell_type": "code",
   "execution_count": 52,
   "metadata": {},
   "outputs": [
    {
     "name": "stdout",
     "output_type": "stream",
     "text": [
      "The size of the T-Shirt is Large and the message to be printed on it is: Keep Calm and Code on.\n"
     ]
    }
   ],
   "source": [
    "make_shirt(\"Large\",\"Keep Calm and Code on\")"
   ]
  },
  {
   "cell_type": "code",
   "execution_count": 53,
   "metadata": {},
   "outputs": [
    {
     "name": "stdout",
     "output_type": "stream",
     "text": [
      "The size of the T-Shirt is Large and the message to be printed on it is: Keep Calm and Code on.\n"
     ]
    }
   ],
   "source": [
    "make_shirt(message=\"Keep Calm and Code on\",size=\"Large\")"
   ]
  },
  {
   "cell_type": "code",
   "execution_count": 54,
   "metadata": {},
   "outputs": [],
   "source": [
    "#Requirement 2:\n",
    "#Modify the make_shirt() function so that shirts are large\n",
    "#by default with a message that reads I love Python. \n",
    "\n",
    "def make_shirt(message,size=\"Large\"):\n",
    "    print(f\"The size of the T-Shirt is {size} and the message to be printed on it is: {message}.\")"
   ]
  },
  {
   "cell_type": "code",
   "execution_count": 55,
   "metadata": {},
   "outputs": [
    {
     "name": "stdout",
     "output_type": "stream",
     "text": [
      "The size of the T-Shirt is Large and the message to be printed on it is: I Love Python.\n"
     ]
    }
   ],
   "source": [
    "make_shirt(\"I Love Python\")"
   ]
  },
  {
   "cell_type": "code",
   "execution_count": 59,
   "metadata": {},
   "outputs": [],
   "source": [
    "#Requirement 3:\n",
    "#Make a large shirt and a medium shirt with the default message, and a shirt of any size with a different message.\n",
    "\n",
    "def make_shirt(size,message=\"I Love Python\"):\n",
    "    \n",
    "    if size==\"Large\" or size==\"LARGE\" or size==\"large\":\n",
    "        print(f\"The size of the T-Shirt is {size} and the message to be printed on it is: {message}.\")\n",
    "    \n",
    "    elif size==\"Medium\" or size==\"MEDIUM\" or size==\"medium\":\n",
    "        print(f\"The size of the T-Shirt is {size} and the message to be printed on it is: {message}.\")\n",
    "        \n",
    "    else:\n",
    "        print(f\"The size of the T-Shirt is {size} and the message to be printed on it is: Keep Calm and Code on.\")"
   ]
  },
  {
   "cell_type": "code",
   "execution_count": 60,
   "metadata": {},
   "outputs": [
    {
     "name": "stdout",
     "output_type": "stream",
     "text": [
      "The size of the T-Shirt is LARGE and the message to be printed on it is: I Love Python.\n"
     ]
    }
   ],
   "source": [
    "make_shirt(\"LARGE\")"
   ]
  },
  {
   "cell_type": "code",
   "execution_count": 61,
   "metadata": {},
   "outputs": [
    {
     "name": "stdout",
     "output_type": "stream",
     "text": [
      "The size of the T-Shirt is medium and the message to be printed on it is: I Love Python.\n"
     ]
    }
   ],
   "source": [
    "make_shirt(\"medium\")"
   ]
  },
  {
   "cell_type": "code",
   "execution_count": 62,
   "metadata": {},
   "outputs": [
    {
     "name": "stdout",
     "output_type": "stream",
     "text": [
      "The size of the T-Shirt is small and the message to be printed on it is: Keep Calm and Code on.\n"
     ]
    }
   ],
   "source": [
    "make_shirt(\"small\")"
   ]
  },
  {
   "cell_type": "code",
   "execution_count": 63,
   "metadata": {},
   "outputs": [
    {
     "name": "stdout",
     "output_type": "stream",
     "text": [
      "The size of the T-Shirt is extra large and the message to be printed on it is: Keep Calm and Code on.\n"
     ]
    }
   ],
   "source": [
    "make_shirt(\"extra large\")"
   ]
  },
  {
   "cell_type": "code",
   "execution_count": 64,
   "metadata": {},
   "outputs": [],
   "source": [
    "#Requirement 4:\n",
    "#Write a function called describe_city() that accepts the name of a city and its country. \n",
    "#The function should print a simple sentence, such as Reykjavik is in Iceland. \n",
    "#Give the parameter for the country a default value. Call your function for three different cities, \n",
    "#at least one of which is not in the default country.\n",
    "\n",
    "def describe_city(city,country):\n",
    "    \n",
    "    print(f\"{city} is in {country}\")"
   ]
  },
  {
   "cell_type": "code",
   "execution_count": 65,
   "metadata": {},
   "outputs": [
    {
     "name": "stdout",
     "output_type": "stream",
     "text": [
      "Mumbai is in India\n"
     ]
    }
   ],
   "source": [
    "describe_city(\"Mumbai\",\"India\")"
   ]
  },
  {
   "cell_type": "code",
   "execution_count": 66,
   "metadata": {},
   "outputs": [],
   "source": [
    "def describe_city(city,country=\"United Kingdom\"):\n",
    "    \n",
    "    print(f\"{city} is in {country}\")"
   ]
  },
  {
   "cell_type": "code",
   "execution_count": 67,
   "metadata": {},
   "outputs": [
    {
     "name": "stdout",
     "output_type": "stream",
     "text": [
      "London is in United Kingdom\n"
     ]
    }
   ],
   "source": [
    "describe_city(\"London\")"
   ]
  },
  {
   "cell_type": "code",
   "execution_count": 68,
   "metadata": {},
   "outputs": [
    {
     "name": "stdout",
     "output_type": "stream",
     "text": [
      "Glasgow is in United Kingdom\n"
     ]
    }
   ],
   "source": [
    "describe_city(\"Glasgow\")"
   ]
  },
  {
   "cell_type": "code",
   "execution_count": 69,
   "metadata": {},
   "outputs": [
    {
     "name": "stdout",
     "output_type": "stream",
     "text": [
      "Chennai is in India\n"
     ]
    }
   ],
   "source": [
    "describe_city(\"Chennai\",\"India\")"
   ]
  },
  {
   "cell_type": "code",
   "execution_count": null,
   "metadata": {},
   "outputs": [],
   "source": []
  }
 ],
 "metadata": {
  "kernelspec": {
   "display_name": "Python 3",
   "language": "python",
   "name": "python3"
  },
  "language_info": {
   "codemirror_mode": {
    "name": "ipython",
    "version": 3
   },
   "file_extension": ".py",
   "mimetype": "text/x-python",
   "name": "python",
   "nbconvert_exporter": "python",
   "pygments_lexer": "ipython3",
   "version": "3.7.6"
  }
 },
 "nbformat": 4,
 "nbformat_minor": 4
}
