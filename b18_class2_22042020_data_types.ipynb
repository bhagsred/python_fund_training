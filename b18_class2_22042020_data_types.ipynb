{
 "cells": [
  {
   "cell_type": "code",
   "execution_count": null,
   "metadata": {},
   "outputs": [],
   "source": [
    "#Notes from class 2(22/04/2020)\n",
    "#Variables:\n",
    "\n",
    "#Rules For variables\n",
    "#1.No name spaces while declaring the variables\n",
    "#first name - wrong\n",
    "#first_name - correct\n",
    "#2.No number while starting the variable\n",
    "#1name - wrong\n",
    "#name1 - correct\n",
    "\n",
    "#Data types in Python\n",
    "#1.String (str)\n",
    "#2.List\n",
    "#3.Tuple\n",
    "#4.dictonary(dict)\n",
    "\n",
    "#Mutable: we can change, alter or modify the data\n",
    "#Immutable: We can not change, alter or modify the data\n",
    "\n",
    "#String: Series of characters; immutable\n",
    "#We can define string with single quotes ('xyz'), double quotes(\"xyz\") or triple quotes(\"'xyz'\"); \n",
    "#no restriction to use any.\n",
    "\n",
    "#Built in methods for strings\n",
    "\n",
    "#General Syntax\n",
    "    # title() --- For name with upper case letter\n",
    "    # upper() --- to change all letters to upper case\n",
    "    # lower() --- to change all letters to lower case\n",
    "\n"
   ]
  },
  {
   "cell_type": "code",
   "execution_count": 1,
   "metadata": {},
   "outputs": [
    {
     "ename": "SyntaxError",
     "evalue": "invalid syntax (<ipython-input-1-27f83aad9252>, line 1)",
     "output_type": "error",
     "traceback": [
      "\u001b[1;36m  File \u001b[1;32m\"<ipython-input-1-27f83aad9252>\"\u001b[1;36m, line \u001b[1;32m1\u001b[0m\n\u001b[1;33m    first name=(\"bhargav\")\u001b[0m\n\u001b[1;37m             ^\u001b[0m\n\u001b[1;31mSyntaxError\u001b[0m\u001b[1;31m:\u001b[0m invalid syntax\n"
     ]
    }
   ],
   "source": [
    "first name=(\"bhargav\")\n",
    "print(\"first name\")"
   ]
  },
  {
   "cell_type": "code",
   "execution_count": 4,
   "metadata": {},
   "outputs": [
    {
     "ename": "SyntaxError",
     "evalue": "invalid syntax (<ipython-input-4-77a086f30c99>, line 1)",
     "output_type": "error",
     "traceback": [
      "\u001b[1;36m  File \u001b[1;32m\"<ipython-input-4-77a086f30c99>\"\u001b[1;36m, line \u001b[1;32m1\u001b[0m\n\u001b[1;33m    1name=(\"bhargav\")\u001b[0m\n\u001b[1;37m        ^\u001b[0m\n\u001b[1;31mSyntaxError\u001b[0m\u001b[1;31m:\u001b[0m invalid syntax\n"
     ]
    }
   ],
   "source": [
    "1name=(\"bhargav\")\n",
    "print(1name)"
   ]
  },
  {
   "cell_type": "code",
   "execution_count": 10,
   "metadata": {},
   "outputs": [
    {
     "name": "stdout",
     "output_type": "stream",
     "text": [
      "Bhargav\n",
      "BHRAMARA\n",
      "rohith\n",
      "Tejas\n"
     ]
    }
   ],
   "source": [
    "first_name1=(\"bhargav\")\n",
    "first_name2=(\"bhramara\")\n",
    "first_name3=(\"TEJAS\")\n",
    "first_name4=(\"ROHITH\")\n",
    "print(first_name1.title())\n",
    "print(first_name2.upper())\n",
    "print(first_name4.lower())\n",
    "print(first_name3.title())"
   ]
  }
 ],
 "metadata": {
  "kernelspec": {
   "display_name": "Python 3",
   "language": "python",
   "name": "python3"
  },
  "language_info": {
   "codemirror_mode": {
    "name": "ipython",
    "version": 3
   },
   "file_extension": ".py",
   "mimetype": "text/x-python",
   "name": "python",
   "nbconvert_exporter": "python",
   "pygments_lexer": "ipython3",
   "version": "3.7.6"
  }
 },
 "nbformat": 4,
 "nbformat_minor": 4
}
