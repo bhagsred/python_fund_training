{
 "cells": [
  {
   "cell_type": "code",
   "execution_count": null,
   "metadata": {},
   "outputs": [],
   "source": [
    "#Introduction to while loops:\n",
    "#while loop depends upon certain condition\n",
    "#while loop with user input\n",
    "#using break to exit the loop\n",
    "\n",
    "#Introduction to functions in python\n",
    "#understanding the concept of code re-usability\n",
    "#code written once and read million times;; Writing the re-usable code is important\n",
    "#how to define a function\n",
    "# def ====>for defining a function\n",
    "#function need to be defined in lower case only"
   ]
  },
  {
   "cell_type": "code",
   "execution_count": 1,
   "metadata": {},
   "outputs": [
    {
     "name": "stdout",
     "output_type": "stream",
     "text": [
      "1\n",
      "2\n",
      "3\n",
      "4\n",
      "5\n"
     ]
    }
   ],
   "source": [
    "current_number=1\n",
    "while current_number<=5:\n",
    "    print(current_number)\n",
    "    current_number+=1 #defining the current_number; current_number=current_number+1"
   ]
  },
  {
   "cell_type": "code",
   "execution_count": 2,
   "metadata": {},
   "outputs": [
    {
     "name": "stdout",
     "output_type": "stream",
     "text": [
      "1\n",
      "2\n",
      "3\n",
      "4\n",
      "5\n",
      "6\n",
      "7\n",
      "8\n",
      "9\n",
      "10\n"
     ]
    }
   ],
   "source": [
    "current_number=1\n",
    "while current_number<=10:\n",
    "    print(current_number)\n",
    "    current_number+=1"
   ]
  },
  {
   "cell_type": "code",
   "execution_count": 3,
   "metadata": {},
   "outputs": [
    {
     "name": "stdout",
     "output_type": "stream",
     "text": [
      "2\n",
      "4\n",
      "6\n",
      "8\n",
      "10\n",
      "12\n",
      "14\n",
      "16\n",
      "18\n",
      "20\n"
     ]
    }
   ],
   "source": [
    "current_even_number=2\n",
    "while current_even_number<=20:\n",
    "    print(current_even_number)\n",
    "    current_even_number=current_even_number+2"
   ]
  },
  {
   "cell_type": "code",
   "execution_count": 3,
   "metadata": {},
   "outputs": [
    {
     "name": "stdout",
     "output_type": "stream",
     "text": [
      "\n",
      "Tell me something and i will repeat\n",
      " Please enter 'quit' to stop: hi bhargav\n",
      "hi bhargav\n",
      "\n",
      "Tell me something and i will repeat\n",
      " Please enter 'quit' to stop: How are you\n",
      "How are you\n",
      "\n",
      "Tell me something and i will repeat\n",
      " Please enter 'quit' to stop: Hope you and your family is doing good\n",
      "Hope you and your family is doing good\n",
      "\n",
      "Tell me something and i will repeat\n",
      " Please enter 'quit' to stop: quit\n",
      "quit\n"
     ]
    }
   ],
   "source": [
    "#\n",
    "prompt=\"\\nTell me something and i will repeat\"\n",
    "prompt+=\"\\n Please enter 'quit' to stop: \"\n",
    "message=\" \"\n",
    "while message !='quit':\n",
    "    message=input(prompt)\n",
    "    print(message)\n"
   ]
  },
  {
   "cell_type": "code",
   "execution_count": 1,
   "metadata": {},
   "outputs": [
    {
     "name": "stdout",
     "output_type": "stream",
     "text": [
      "\n",
      "Please enter the city you recently visited\n",
      "Please enter 'quit' to stop: cardiff\n",
      "I'd love to go to Cardiff\n",
      "\n",
      "Please enter the city you recently visited\n",
      "Please enter 'quit' to stop: quit\n"
     ]
    }
   ],
   "source": [
    "prompt=\"\\nPlease enter the city you recently visited\"\n",
    "prompt+=\"\\nPlease enter 'quit' to stop: \"\n",
    "\n",
    "city=\" \"\n",
    "\n",
    "while True:\n",
    "    city=input(prompt)\n",
    "    if city=='quit':\n",
    "        break\n",
    "    else:\n",
    "        print(f\"I'd love to go to {city.title()}\")"
   ]
  },
  {
   "cell_type": "code",
   "execution_count": 4,
   "metadata": {},
   "outputs": [
    {
     "name": "stdout",
     "output_type": "stream",
     "text": [
      "Hello\n"
     ]
    }
   ],
   "source": [
    "#define a function to display a greeting message\n",
    "\n",
    "def great_user(): #defining a message\n",
    "    \"\"\"Display a simple greeting\"\"\" #doc-string to comment inside a function\n",
    "    print('Hello')#display the greeting message\n",
    "great_user() #function call"
   ]
  },
  {
   "cell_type": "code",
   "execution_count": 5,
   "metadata": {},
   "outputs": [
    {
     "name": "stdout",
     "output_type": "stream",
     "text": [
      "please enter your name: bhargav\n",
      "hello, good to see you back Bhargav\n"
     ]
    }
   ],
   "source": [
    "#define a function to great the user\n",
    "def great_user(username):\n",
    "    \"\"\"display simple greeting message with user name\"\"\"\n",
    "    print(f\"hello, good to see you back {username.title()}\")\n",
    "username=input(\"please enter your name: \")\n",
    "great_user(username)"
   ]
  },
  {
   "cell_type": "code",
   "execution_count": null,
   "metadata": {},
   "outputs": [],
   "source": []
  }
 ],
 "metadata": {
  "kernelspec": {
   "display_name": "Python 3",
   "language": "python",
   "name": "python3"
  },
  "language_info": {
   "codemirror_mode": {
    "name": "ipython",
    "version": 3
   },
   "file_extension": ".py",
   "mimetype": "text/x-python",
   "name": "python",
   "nbconvert_exporter": "python",
   "pygments_lexer": "ipython3",
   "version": "3.7.6"
  }
 },
 "nbformat": 4,
 "nbformat_minor": 4
}
