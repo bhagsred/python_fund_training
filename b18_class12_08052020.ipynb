{
 "cells": [
  {
   "cell_type": "code",
   "execution_count": 9,
   "metadata": {},
   "outputs": [],
   "source": [
    "#Req: consider first and last name of a person; present in a proper format\n",
    "\n",
    "get_formatted_name=\" \"\n",
    "full_name=\" \"\n",
    "\n",
    "def get_formatted_name(last_name,first_name):\n",
    "    \"\"\"neatly formatted name\"\"\"\n",
    "    \n",
    "    full_name=(f\"{first_name} {last_name}\")\n",
    "    return full_name.title()"
   ]
  },
  {
   "cell_type": "code",
   "execution_count": 10,
   "metadata": {},
   "outputs": [
    {
     "data": {
      "text/plain": [
       "'Bhargav Bhavanam'"
      ]
     },
     "execution_count": 10,
     "metadata": {},
     "output_type": "execute_result"
    }
   ],
   "source": [
    "get_formatted_name('bhavanam','bhargav')"
   ]
  },
  {
   "cell_type": "code",
   "execution_count": 32,
   "metadata": {},
   "outputs": [],
   "source": [
    "#Req: send a greeting message to the list of actors by using a function\n",
    "actors=\" \"\n",
    "greet_actors=\" \"\n",
    "msg=\" \"\n",
    "\n",
    "actors=['nag','chiru','balayya','mahesh','pawan']\n",
    "\n",
    "def greet_actors(names):\n",
    "    for name in names:\n",
    "        msg=f\"Wish you a happy new year {name.title()}\"\n",
    "        print(msg)"
   ]
  },
  {
   "cell_type": "code",
   "execution_count": 33,
   "metadata": {},
   "outputs": [
    {
     "name": "stdout",
     "output_type": "stream",
     "text": [
      "Wish you a happy new year Nag\n",
      "Wish you a happy new year Chiru\n",
      "Wish you a happy new year Balayya\n",
      "Wish you a happy new year Mahesh\n",
      "Wish you a happy new year Pawan\n"
     ]
    }
   ],
   "source": [
    "greet_actors(actors)"
   ]
  },
  {
   "cell_type": "code",
   "execution_count": 34,
   "metadata": {},
   "outputs": [],
   "source": [
    "#understanding the arbitrary arguments\n",
    "def make_pizza(*toppings): #use * for arbitrary arguments; if this is not given, in line 24 gives an error\n",
    "    \"\"\"print the list of toppings that are requested\"\"\"\n",
    "    print(toppings)"
   ]
  },
  {
   "cell_type": "code",
   "execution_count": 35,
   "metadata": {},
   "outputs": [
    {
     "name": "stdout",
     "output_type": "stream",
     "text": [
      "('chicken',)\n"
     ]
    }
   ],
   "source": [
    "make_pizza('chicken')"
   ]
  },
  {
   "cell_type": "code",
   "execution_count": 24,
   "metadata": {},
   "outputs": [
    {
     "name": "stdout",
     "output_type": "stream",
     "text": [
      "('chicken', 'olives', 'jaleppenos')\n"
     ]
    }
   ],
   "source": [
    "make_pizza('chicken','olives','jaleppenos')"
   ]
  },
  {
   "cell_type": "code",
   "execution_count": 25,
   "metadata": {},
   "outputs": [
    {
     "name": "stdout",
     "output_type": "stream",
     "text": [
      "('chicken', 'olives', 'jaleppenos', 'extra cheese', 'onions')\n"
     ]
    }
   ],
   "source": [
    "make_pizza('chicken','olives','jaleppenos','extra cheese','onions')"
   ]
  },
  {
   "cell_type": "code",
   "execution_count": null,
   "metadata": {},
   "outputs": [],
   "source": []
  },
  {
   "cell_type": "code",
   "execution_count": null,
   "metadata": {},
   "outputs": [],
   "source": []
  }
 ],
 "metadata": {
  "kernelspec": {
   "display_name": "Python 3",
   "language": "python",
   "name": "python3"
  },
  "language_info": {
   "codemirror_mode": {
    "name": "ipython",
    "version": 3
   },
   "file_extension": ".py",
   "mimetype": "text/x-python",
   "name": "python",
   "nbconvert_exporter": "python",
   "pygments_lexer": "ipython3",
   "version": "3.7.6"
  }
 },
 "nbformat": 4,
 "nbformat_minor": 4
}
