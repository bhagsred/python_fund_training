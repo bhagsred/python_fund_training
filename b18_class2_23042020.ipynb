{
 "cells": [
  {
   "cell_type": "code",
   "execution_count": null,
   "metadata": {},
   "outputs": [],
   "source": [
    "#Notes from class 3 on 23/04/2020\n",
    "#Introduction to f strings\n",
    "#general syntax:\n",
    "    #f\"{placeholder}{placeholder}\n",
    "\n",
    "#Adding wide spaces to strings by new line and tab delimitter\n",
    "#general syntax:\n",
    "        #\\n for new line\n",
    "        #\\t for wide space (tab delimitter)\n",
    "        \n",
    "#Stripping of white spaces\n",
    "#general syntax:\n",
    "    #rstrip---to remove right extra white space\n",
    "    #lstrip---to remove left extra white space\n",
    "    #strip---#if we have spaces on both left and right, uses an extra search command to know where the white spaces are. \n",
    "    #Use only, if we are not sure where the white space is there to reduce the run time.\n"
   ]
  },
  {
   "cell_type": "code",
   "execution_count": 74,
   "metadata": {},
   "outputs": [
    {
     "name": "stdout",
     "output_type": "stream",
     "text": [
      "Hi,\n",
      "my name is Bhargav Bhavanam and i am 39 years old. I studied Bachelor Degree in Aerospace\n",
      "and work as an aircraft repair engineer. I live in United Kingdom.\n",
      "\n",
      "my hobbies are,\n",
      "\tHiking,\n",
      "\tJogging,\n",
      "\tplaying badminton,\n",
      "\tand cooking\n"
     ]
    }
   ],
   "source": [
    "first_name=\"bhargav bhavanam\"\n",
    "age=\"    39      \"\n",
    "qual=\"Bachelor Degree in Aerospace                  \"\n",
    "place=\"   united kingdom\"\n",
    "\n",
    "print(f\"Hi,\\nmy name is {first_name.title()} and i am {age.strip()} years old. I studied {qual.rstrip()}\\nand work as an aircraft repair engineer. I live in {place.title().lstrip()}.\")\n",
    "print('\\nmy hobbies are,\\n\\tHiking,\\n\\tJogging,\\n\\tplaying badminton,\\n\\tand cooking')\n"
   ]
  },
  {
   "cell_type": "code",
   "execution_count": null,
   "metadata": {},
   "outputs": [],
   "source": []
  }
 ],
 "metadata": {
  "kernelspec": {
   "display_name": "Python 3",
   "language": "python",
   "name": "python3"
  },
  "language_info": {
   "codemirror_mode": {
    "name": "ipython",
    "version": 3
   },
   "file_extension": ".py",
   "mimetype": "text/x-python",
   "name": "python",
   "nbconvert_exporter": "python",
   "pygments_lexer": "ipython3",
   "version": "3.7.6"
  }
 },
 "nbformat": 4,
 "nbformat_minor": 4
}
