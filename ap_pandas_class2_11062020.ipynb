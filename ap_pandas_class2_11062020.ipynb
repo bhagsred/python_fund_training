{
 "cells": [
  {
   "cell_type": "code",
   "execution_count": null,
   "metadata": {},
   "outputs": [],
   "source": [
    "#Introduction to data frames in pandas\n",
    "#dataframe=df---2 dimensional; it will be having a tabular structure"
   ]
  },
  {
   "cell_type": "code",
   "execution_count": null,
   "metadata": {},
   "outputs": [],
   "source": [
    "#general syntax:\n",
    "\n",
    "#pd.DataFrame(data,index,columns,dtype,copy)"
   ]
  },
  {
   "cell_type": "code",
   "execution_count": 1,
   "metadata": {},
   "outputs": [],
   "source": [
    "import numpy as np\n",
    "import pandas as pd"
   ]
  },
  {
   "cell_type": "code",
   "execution_count": 2,
   "metadata": {},
   "outputs": [
    {
     "name": "stdout",
     "output_type": "stream",
     "text": [
      "Empty DataFrame\n",
      "Columns: []\n",
      "Index: []\n"
     ]
    }
   ],
   "source": [
    "df=pd.DataFrame()\n",
    "\n",
    "print(df)"
   ]
  },
  {
   "cell_type": "code",
   "execution_count": 3,
   "metadata": {},
   "outputs": [
    {
     "name": "stdout",
     "output_type": "stream",
     "text": [
      "   0\n",
      "0  1\n",
      "1  2\n",
      "2  3\n",
      "3  4\n",
      "4  5\n"
     ]
    }
   ],
   "source": [
    "data=[1,2,3,4,5]\n",
    "\n",
    "df=pd.DataFrame(data)\n",
    "\n",
    "print(df)\n",
    "\n",
    "#column numbering and row numbering provided by pandas"
   ]
  },
  {
   "cell_type": "code",
   "execution_count": 6,
   "metadata": {},
   "outputs": [
    {
     "name": "stdout",
     "output_type": "stream",
     "text": [
      "  Name  Marks\n",
      "0    x     10\n",
      "1    y      9\n",
      "2    z      8\n",
      "3    w      7\n"
     ]
    }
   ],
   "source": [
    "data=[['x',10],['y',9],['z',8],['w',7]]\n",
    "\n",
    "df=pd.DataFrame(data,columns=['Name','Marks'])\n",
    "                           \n",
    "print(df)"
   ]
  },
  {
   "cell_type": "code",
   "execution_count": 7,
   "metadata": {},
   "outputs": [
    {
     "name": "stdout",
     "output_type": "stream",
     "text": [
      "      Name  Marks\n",
      "rank1    x   10.0\n",
      "rank2    y    9.0\n",
      "rank3    z    8.0\n",
      "rank4    w    7.0\n"
     ]
    }
   ],
   "source": [
    "data=[['x',10],['y',9],['z',8],['w',7]]\n",
    "\n",
    "df=pd.DataFrame(data,index=['rank1','rank2','rank3','rank4'],columns=['Name','Marks'],dtype=float)\n",
    "                           \n",
    "print(df)"
   ]
  },
  {
   "cell_type": "code",
   "execution_count": 8,
   "metadata": {},
   "outputs": [
    {
     "name": "stdout",
     "output_type": "stream",
     "text": [
      "  Name  Marks\n",
      "0    x     50\n",
      "1    y     45\n",
      "2    z     42\n",
      "3    w     55\n",
      "4    v     40\n"
     ]
    }
   ],
   "source": [
    "#creating a dataframe from dict of ndarrays/lists\n",
    "\n",
    "#dict: The keys will be converted as a column name\n",
    "\n",
    "data={'Name':['x','y','z','w','v'],'Marks':[50,45,42,55,40]}\n",
    "\n",
    "df=pd.DataFrame(data)\n",
    "\n",
    "print(df)"
   ]
  },
  {
   "cell_type": "code",
   "execution_count": null,
   "metadata": {},
   "outputs": [],
   "source": [
    "#Working on the datasets\n",
    "\n",
    "#Loading the data into systems\n",
    "#Cleansing the data (we need to keep only the required information)\n",
    "#Processing the data (transforming the data)\n",
    "#Storing the data (compress the data (optimal way) by applying the techniques)\n",
    "\n"
   ]
  },
  {
   "cell_type": "code",
   "execution_count": null,
   "metadata": {},
   "outputs": [],
   "source": []
  }
 ],
 "metadata": {
  "kernelspec": {
   "display_name": "Python 3",
   "language": "python",
   "name": "python3"
  },
  "language_info": {
   "codemirror_mode": {
    "name": "ipython",
    "version": 3
   },
   "file_extension": ".py",
   "mimetype": "text/x-python",
   "name": "python",
   "nbconvert_exporter": "python",
   "pygments_lexer": "ipython3",
   "version": "3.7.6"
  }
 },
 "nbformat": 4,
 "nbformat_minor": 4
}
